{
 "cells": [
  {
   "cell_type": "markdown",
   "metadata": {},
   "source": [
    "<img src=\"https://github.com/insaid2018/Term-1/blob/master/Images/INSAID_Full%20Logo.png?raw=true\" width=\"240\" height=\"360\"/>\n",
    " Summer Olympics Games Project - By Harjeet Kaur"
   ]
  },
  {
   "cell_type": "markdown",
   "metadata": {},
   "source": [
    "## Table of Contents\n",
    "\n",
    "1. [Problem Statement](#section1)<br>\n",
    "2. [Data Loading and Description](#section2)\n",
    "3. [Data Profiling](#section3)\n",
    "    - 3.1 [Understanding the Dataset](#section301)<br/>\n",
    "    - 3.2 [Pre Profiling](#section302)<br/>\n",
    "    - 3.3 [Pre-Processing](#section303)<br/>\n",
    "    - 3.4 [Post-Profiling](#section304)<br/>\n",
    "4. [Questions](#section4)\n",
    "    - 4.1 [How many times Olympics games hosted till date and which country hosted the maximum Olympics games?](#section401)<br/>\n",
    "    - 4.2 [How many countries participation in Olympics over the years?](#section402)<br/>\n",
    "    - 4.3 [how many total medals won till date in Olympics and year wise each medal won by countries?](#section403)<br/>\n",
    "    - 4.4 [What is the medal won count betwen Men and Women in each Olympic year?](#section404)<br/>\n",
    "    - 4.5 [Display the Medal Tally (Gold,Silver,Bronze) of each Country in each Olympics year.](#section405)<br/>\n",
    "    - 4.6 [Which Country won the Max number of Gold,Silver,Bronze Medal in Olympic History ?](#section406)<br/>\n",
    "    - 4.7 [Which Country won the Olympics games more than __ONCE__ .](#section407)<br/>\n",
    "    - 4.8 [Which are the __Top Three__ Countries in Olympic History over the period ?](#section408)<br/>\n",
    "    - 4.9 [How the performance of women in Olympics changed over the period ?](#section409)<br/>\n",
    "    - 4.10 [Indian Performance in Olympic history ?](#section410)<br/>\n",
    "    - 4.11 [Which Athlete won the maximum number of medals in Swimming in Olympics History ?.](#section411)<br/>\n",
    "    - 4.12 [Hypothesis: Women and children are more likely to survive](#section412)<br/>\n",
    "5. [Conclusions](#section5)<br/>  "
   ]
  },
  {
   "cell_type": "markdown",
   "metadata": {},
   "source": [
    "<a id=section1></a>\n",
    "### 1. Problem Statement"
   ]
  },
  {
   "cell_type": "markdown",
   "metadata": {},
   "source": [
    "This notebook provides the data analysis for __Summer Olympics games__ dataset and figure out interesting __statistics__ and _insight_ about Olympics games being held till year 2012. \n",
    "\n",
    "* __Olympics Games EDA__ <br/>\n",
    "Understand the data by EDA and derive simple models with Pandas as baseline.\n",
    "EDA ia a critical and first step in analyzing the data and we do this for below reasons :\n",
    "    - Finding patterns in Data\n",
    "    - Determining relationships in Data\n",
    "    - Checking of assumptions\n",
    "    - Preliminary selection of appropriate models\n",
    "    - Detection of mistakes "
   ]
  },
  {
   "cell_type": "markdown",
   "metadata": {},
   "source": [
    "# <a id=section2></a>\n",
    "### 2. Data Loading and Description\n",
    "<img src=\"Rio-Olympics.jpg\" width=\"540\" height=\"760\"/>"
   ]
  },
  {
   "cell_type": "markdown",
   "metadata": {},
   "source": [
    "- This dataset consists of information about Country,Year,Event,Discipline and Medal won by athlete in different Olympics games.\n",
    "- It contains around __31165__ rows with medal won information about __148__ distinct countries in __666__ distinct events in  the Olympics Games history.\n",
    "- •The dataset comprises of 31165 observations of 9 columns. Below is a table showing names of all the columns and their description."
   ]
  },
  {
   "cell_type": "markdown",
   "metadata": {},
   "source": [
    "| Column Name   | Description                                               |\n",
    "| ------------- |:-------------                                            :| \n",
    "| Year          | Olympic Year                                              | \n",
    "| City          | City Where the Olympics games being held on.              |  \n",
    "| Sport         | Sport in Olympics e.g Aquatics                            | \n",
    "| Discipline    | Discipline of game under Sport like Swimming in Aquatics  |                                         |   \n",
    "| Athlete       | Name of the Athlete                                       |\n",
    "| Country       | Name of the Country e.g HUN for Hungry                    |\n",
    "| Gender        | Gender of the Athlete. men or women                       |\n",
    "| Event         | Event of the Sport e.g 100M race                          |\n",
    "| Medal         | Medal won by Athlete (Gold,Silver,Bronze)                 |\n"
   ]
  },
  {
   "cell_type": "raw",
   "metadata": {},
   "source": [
    "### Importing Packages and dataset"
   ]
  },
  {
   "cell_type": "code",
   "execution_count": 1,
   "metadata": {},
   "outputs": [],
   "source": [
    "import numpy as np                                                 # Implemennts milti-dimensional array and matrices\n",
    "import pandas as pd                                                # For data manipulation and analysis\n",
    "import pandas_profiling\n",
    "import matplotlib.pyplot as plt                                    # Plotting library for Python programming language and it's numerical mathematics extension NumPy\n",
    "import seaborn as sns  \n",
    "\n",
    "# Provides a high level interface for drawing attractive and informative statistical graphics\n",
    "%matplotlib inline\n",
    "sns.set()\n",
    "\n",
    "from subprocess import check_output\n",
    "\n",
    "Olympics_df = pd.read_csv(\"https://raw.githubusercontent.com/insaid2018/Term-1/master/Data/Projects/summer%20olympics.csv\")\n"
   ]
  },
  {
   "cell_type": "markdown",
   "metadata": {},
   "source": [
    "<a id=section3></a>\n",
    "## 3. Data Profiling"
   ]
  },
  {
   "cell_type": "markdown",
   "metadata": {},
   "source": [
    "<a id=section301></a>\n",
    "### 3.1 Understanding the Olympics Data Set"
   ]
  },
  {
   "cell_type": "markdown",
   "metadata": {},
   "source": [
    "- Let us analyze the Olympics dataset from number of rows and columns prespective"
   ]
  },
  {
   "cell_type": "code",
   "execution_count": 2,
   "metadata": {},
   "outputs": [
    {
     "data": {
      "text/plain": [
       "(31165, 9)"
      ]
     },
     "execution_count": 2,
     "metadata": {},
     "output_type": "execute_result"
    }
   ],
   "source": [
    "Olympics_df.shape"
   ]
  },
  {
   "cell_type": "markdown",
   "metadata": {},
   "source": [
    "- Summer Olympics dataset has 31165 rows spread in 9 columns. Let us explore the columns further."
   ]
  },
  {
   "cell_type": "code",
   "execution_count": 3,
   "metadata": {},
   "outputs": [
    {
     "data": {
      "text/plain": [
       "Index(['Year', 'City', 'Sport', 'Discipline', 'Athlete', 'Country', 'Gender',\n",
       "       'Event', 'Medal'],\n",
       "      dtype='object')"
      ]
     },
     "execution_count": 3,
     "metadata": {},
     "output_type": "execute_result"
    }
   ],
   "source": [
    "Olympics_df.columns[:]   #It shows the different columns names and its dtype as Object"
   ]
  },
  {
   "cell_type": "code",
   "execution_count": 4,
   "metadata": {},
   "outputs": [
    {
     "data": {
      "text/plain": [
       "Index(['Event', 'Medal'], dtype='object')"
      ]
     },
     "execution_count": 4,
     "metadata": {},
     "output_type": "execute_result"
    }
   ],
   "source": [
    "Olympics_df.columns[-2:] #It will show you last two columns of dataset"
   ]
  },
  {
   "cell_type": "code",
   "execution_count": 5,
   "metadata": {},
   "outputs": [
    {
     "name": "stdout",
     "output_type": "stream",
     "text": [
      "<class 'pandas.core.frame.DataFrame'>\n",
      "RangeIndex: 31165 entries, 0 to 31164\n",
      "Data columns (total 9 columns):\n",
      "Year          31165 non-null int64\n",
      "City          31165 non-null object\n",
      "Sport         31165 non-null object\n",
      "Discipline    31165 non-null object\n",
      "Athlete       31165 non-null object\n",
      "Country       31161 non-null object\n",
      "Gender        31165 non-null object\n",
      "Event         31165 non-null object\n",
      "Medal         31165 non-null object\n",
      "dtypes: int64(1), object(8)\n",
      "memory usage: 2.1+ MB\n"
     ]
    }
   ],
   "source": [
    "Olympics_df.info()  # Info gives details about total entries (rows),their datatype,Null or not null info. "
   ]
  },
  {
   "cell_type": "markdown",
   "metadata": {},
   "source": [
    "#### Olympic dataset has only ONE numeric column as Year and rest all the columns are Object type or Categorical in nature."
   ]
  },
  {
   "cell_type": "code",
   "execution_count": 6,
   "metadata": {},
   "outputs": [
    {
     "data": {
      "text/plain": [
       "Year          0\n",
       "City          0\n",
       "Sport         0\n",
       "Discipline    0\n",
       "Athlete       0\n",
       "Country       4\n",
       "Gender        0\n",
       "Event         0\n",
       "Medal         0\n",
       "dtype: int64"
      ]
     },
     "execution_count": 6,
     "metadata": {},
     "output_type": "execute_result"
    }
   ],
   "source": [
    "Olympics_df.isnull().sum()   #Check for Null values in dataset"
   ]
  },
  {
   "cell_type": "markdown",
   "metadata": {},
   "source": [
    "#### There are four null values for __Country__ column"
   ]
  },
  {
   "cell_type": "code",
   "execution_count": 7,
   "metadata": {},
   "outputs": [
    {
     "data": {
      "text/plain": [
       "2"
      ]
     },
     "execution_count": 7,
     "metadata": {},
     "output_type": "execute_result"
    }
   ],
   "source": [
    "Olympics_df.duplicated().sum() #Check for Duplicates values"
   ]
  },
  {
   "cell_type": "markdown",
   "metadata": {},
   "source": [
    "#### The above result shows __2__ duplicates rows values in dataset"
   ]
  },
  {
   "cell_type": "code",
   "execution_count": 8,
   "metadata": {
    "scrolled": true
   },
   "outputs": [
    {
     "data": {
      "text/html": [
       "<div>\n",
       "<style scoped>\n",
       "    .dataframe tbody tr th:only-of-type {\n",
       "        vertical-align: middle;\n",
       "    }\n",
       "\n",
       "    .dataframe tbody tr th {\n",
       "        vertical-align: top;\n",
       "    }\n",
       "\n",
       "    .dataframe thead th {\n",
       "        text-align: right;\n",
       "    }\n",
       "</style>\n",
       "<table border=\"1\" class=\"dataframe\">\n",
       "  <thead>\n",
       "    <tr style=\"text-align: right;\">\n",
       "      <th></th>\n",
       "      <th>Year</th>\n",
       "      <th>City</th>\n",
       "      <th>Sport</th>\n",
       "      <th>Discipline</th>\n",
       "      <th>Athlete</th>\n",
       "      <th>Country</th>\n",
       "      <th>Gender</th>\n",
       "      <th>Event</th>\n",
       "      <th>Medal</th>\n",
       "    </tr>\n",
       "  </thead>\n",
       "  <tbody>\n",
       "    <tr>\n",
       "      <th>0</th>\n",
       "      <td>1896</td>\n",
       "      <td>Athens</td>\n",
       "      <td>Aquatics</td>\n",
       "      <td>Swimming</td>\n",
       "      <td>HAJOS, Alfred</td>\n",
       "      <td>HUN</td>\n",
       "      <td>Men</td>\n",
       "      <td>100M Freestyle</td>\n",
       "      <td>Gold</td>\n",
       "    </tr>\n",
       "    <tr>\n",
       "      <th>1</th>\n",
       "      <td>1896</td>\n",
       "      <td>Athens</td>\n",
       "      <td>Aquatics</td>\n",
       "      <td>Swimming</td>\n",
       "      <td>HERSCHMANN, Otto</td>\n",
       "      <td>AUT</td>\n",
       "      <td>Men</td>\n",
       "      <td>100M Freestyle</td>\n",
       "      <td>Silver</td>\n",
       "    </tr>\n",
       "    <tr>\n",
       "      <th>2</th>\n",
       "      <td>1896</td>\n",
       "      <td>Athens</td>\n",
       "      <td>Aquatics</td>\n",
       "      <td>Swimming</td>\n",
       "      <td>DRIVAS, Dimitrios</td>\n",
       "      <td>GRE</td>\n",
       "      <td>Men</td>\n",
       "      <td>100M Freestyle For Sailors</td>\n",
       "      <td>Bronze</td>\n",
       "    </tr>\n",
       "    <tr>\n",
       "      <th>3</th>\n",
       "      <td>1896</td>\n",
       "      <td>Athens</td>\n",
       "      <td>Aquatics</td>\n",
       "      <td>Swimming</td>\n",
       "      <td>MALOKINIS, Ioannis</td>\n",
       "      <td>GRE</td>\n",
       "      <td>Men</td>\n",
       "      <td>100M Freestyle For Sailors</td>\n",
       "      <td>Gold</td>\n",
       "    </tr>\n",
       "    <tr>\n",
       "      <th>4</th>\n",
       "      <td>1896</td>\n",
       "      <td>Athens</td>\n",
       "      <td>Aquatics</td>\n",
       "      <td>Swimming</td>\n",
       "      <td>CHASAPIS, Spiridon</td>\n",
       "      <td>GRE</td>\n",
       "      <td>Men</td>\n",
       "      <td>100M Freestyle For Sailors</td>\n",
       "      <td>Silver</td>\n",
       "    </tr>\n",
       "  </tbody>\n",
       "</table>\n",
       "</div>"
      ],
      "text/plain": [
       "   Year    City     Sport Discipline             Athlete Country Gender  \\\n",
       "0  1896  Athens  Aquatics   Swimming       HAJOS, Alfred     HUN    Men   \n",
       "1  1896  Athens  Aquatics   Swimming    HERSCHMANN, Otto     AUT    Men   \n",
       "2  1896  Athens  Aquatics   Swimming   DRIVAS, Dimitrios     GRE    Men   \n",
       "3  1896  Athens  Aquatics   Swimming  MALOKINIS, Ioannis     GRE    Men   \n",
       "4  1896  Athens  Aquatics   Swimming  CHASAPIS, Spiridon     GRE    Men   \n",
       "\n",
       "                        Event   Medal  \n",
       "0              100M Freestyle    Gold  \n",
       "1              100M Freestyle  Silver  \n",
       "2  100M Freestyle For Sailors  Bronze  \n",
       "3  100M Freestyle For Sailors    Gold  \n",
       "4  100M Freestyle For Sailors  Silver  "
      ]
     },
     "execution_count": 8,
     "metadata": {},
     "output_type": "execute_result"
    }
   ],
   "source": [
    "Olympics_df.head()  #Getting the top 5 rows of dataset."
   ]
  },
  {
   "cell_type": "code",
   "execution_count": 9,
   "metadata": {},
   "outputs": [
    {
     "data": {
      "text/html": [
       "<div>\n",
       "<style scoped>\n",
       "    .dataframe tbody tr th:only-of-type {\n",
       "        vertical-align: middle;\n",
       "    }\n",
       "\n",
       "    .dataframe tbody tr th {\n",
       "        vertical-align: top;\n",
       "    }\n",
       "\n",
       "    .dataframe thead th {\n",
       "        text-align: right;\n",
       "    }\n",
       "</style>\n",
       "<table border=\"1\" class=\"dataframe\">\n",
       "  <thead>\n",
       "    <tr style=\"text-align: right;\">\n",
       "      <th></th>\n",
       "      <th>Year</th>\n",
       "      <th>City</th>\n",
       "      <th>Sport</th>\n",
       "      <th>Discipline</th>\n",
       "      <th>Athlete</th>\n",
       "      <th>Country</th>\n",
       "      <th>Gender</th>\n",
       "      <th>Event</th>\n",
       "      <th>Medal</th>\n",
       "    </tr>\n",
       "  </thead>\n",
       "  <tbody>\n",
       "    <tr>\n",
       "      <th>31160</th>\n",
       "      <td>2012</td>\n",
       "      <td>London</td>\n",
       "      <td>Wrestling</td>\n",
       "      <td>Wrestling Freestyle</td>\n",
       "      <td>JANIKOWSKI, Damian</td>\n",
       "      <td>POL</td>\n",
       "      <td>Men</td>\n",
       "      <td>Wg 84 KG</td>\n",
       "      <td>Bronze</td>\n",
       "    </tr>\n",
       "    <tr>\n",
       "      <th>31161</th>\n",
       "      <td>2012</td>\n",
       "      <td>London</td>\n",
       "      <td>Wrestling</td>\n",
       "      <td>Wrestling Freestyle</td>\n",
       "      <td>REZAEI, Ghasem Gholamreza</td>\n",
       "      <td>IRI</td>\n",
       "      <td>Men</td>\n",
       "      <td>Wg 96 KG</td>\n",
       "      <td>Gold</td>\n",
       "    </tr>\n",
       "    <tr>\n",
       "      <th>31162</th>\n",
       "      <td>2012</td>\n",
       "      <td>London</td>\n",
       "      <td>Wrestling</td>\n",
       "      <td>Wrestling Freestyle</td>\n",
       "      <td>TOTROV, Rustam</td>\n",
       "      <td>RUS</td>\n",
       "      <td>Men</td>\n",
       "      <td>Wg 96 KG</td>\n",
       "      <td>Silver</td>\n",
       "    </tr>\n",
       "    <tr>\n",
       "      <th>31163</th>\n",
       "      <td>2012</td>\n",
       "      <td>London</td>\n",
       "      <td>Wrestling</td>\n",
       "      <td>Wrestling Freestyle</td>\n",
       "      <td>ALEKSANYAN, Artur</td>\n",
       "      <td>ARM</td>\n",
       "      <td>Men</td>\n",
       "      <td>Wg 96 KG</td>\n",
       "      <td>Bronze</td>\n",
       "    </tr>\n",
       "    <tr>\n",
       "      <th>31164</th>\n",
       "      <td>2012</td>\n",
       "      <td>London</td>\n",
       "      <td>Wrestling</td>\n",
       "      <td>Wrestling Freestyle</td>\n",
       "      <td>LIDBERG, Jimmy</td>\n",
       "      <td>SWE</td>\n",
       "      <td>Men</td>\n",
       "      <td>Wg 96 KG</td>\n",
       "      <td>Bronze</td>\n",
       "    </tr>\n",
       "  </tbody>\n",
       "</table>\n",
       "</div>"
      ],
      "text/plain": [
       "       Year    City      Sport           Discipline  \\\n",
       "31160  2012  London  Wrestling  Wrestling Freestyle   \n",
       "31161  2012  London  Wrestling  Wrestling Freestyle   \n",
       "31162  2012  London  Wrestling  Wrestling Freestyle   \n",
       "31163  2012  London  Wrestling  Wrestling Freestyle   \n",
       "31164  2012  London  Wrestling  Wrestling Freestyle   \n",
       "\n",
       "                         Athlete Country Gender     Event   Medal  \n",
       "31160         JANIKOWSKI, Damian     POL    Men  Wg 84 KG  Bronze  \n",
       "31161  REZAEI, Ghasem Gholamreza     IRI    Men  Wg 96 KG    Gold  \n",
       "31162             TOTROV, Rustam     RUS    Men  Wg 96 KG  Silver  \n",
       "31163          ALEKSANYAN, Artur     ARM    Men  Wg 96 KG  Bronze  \n",
       "31164             LIDBERG, Jimmy     SWE    Men  Wg 96 KG  Bronze  "
      ]
     },
     "execution_count": 9,
     "metadata": {},
     "output_type": "execute_result"
    }
   ],
   "source": [
    "Olympics_df.tail()  #Getting the bottom 5 rows in dataset"
   ]
  },
  {
   "cell_type": "markdown",
   "metadata": {},
   "source": [
    "<a id=section302></a>\n",
    "### 3.2 Pre-Profiling"
   ]
  },
  {
   "cell_type": "markdown",
   "metadata": {},
   "source": [
    "#### Generating Pandas Pre-profiling, an interactive HTML Report using Pre-profiling feature to describe the \n",
    "#### Olympics dataset and visual representation of some of their columns"
   ]
  },
  {
   "cell_type": "code",
   "execution_count": 10,
   "metadata": {},
   "outputs": [],
   "source": [
    "profile = pandas_profiling.ProfileReport(Olympics_df)\n",
    "profile.to_file(outputfile=\"OlympicsDataset_before_preprocessing.html\")"
   ]
  },
  {
   "cell_type": "markdown",
   "metadata": {},
   "source": [
    "This HTML report gives the summary about the Olympics dataset and describe about the number of rows, columns, their missing values,and also provide insight about each column like distinct values in Country column or total number of Gold,Silver and Bronze medal won in the Olympic history."
   ]
  },
  {
   "cell_type": "markdown",
   "metadata": {},
   "source": [
    "<a id=section303></a>\n",
    "### Pre-processing"
   ]
  },
  {
   "cell_type": "markdown",
   "metadata": {},
   "source": [
    "- Dealing with duplicates and missing values<br/>\n",
    "    - Dropping the duplicates rows entries.\n",
    "    - Replacing missing values of __Country__ with Mode values.\n",
    "    "
   ]
  },
  {
   "cell_type": "code",
   "execution_count": 11,
   "metadata": {},
   "outputs": [],
   "source": [
    "Olympics_df.drop_duplicates(inplace=True) #It will drop the duplicates rows from the original dataset because of inplace as True.\n"
   ]
  },
  {
   "cell_type": "code",
   "execution_count": 12,
   "metadata": {},
   "outputs": [
    {
     "data": {
      "text/plain": [
       "0"
      ]
     },
     "execution_count": 12,
     "metadata": {},
     "output_type": "execute_result"
    }
   ],
   "source": [
    "Olympics_df.duplicated().sum()  #Check for duplicates rows after deletion"
   ]
  },
  {
   "cell_type": "markdown",
   "metadata": {},
   "source": [
    "The above result shows that the duplicates rows from the Olympic dataset get removed."
   ]
  },
  {
   "cell_type": "code",
   "execution_count": 13,
   "metadata": {},
   "outputs": [
    {
     "data": {
      "text/plain": [
       "Year          0\n",
       "City          0\n",
       "Sport         0\n",
       "Discipline    0\n",
       "Athlete       0\n",
       "Country       4\n",
       "Gender        0\n",
       "Event         0\n",
       "Medal         0\n",
       "dtype: int64"
      ]
     },
     "execution_count": 13,
     "metadata": {},
     "output_type": "execute_result"
    }
   ],
   "source": [
    "Olympics_df.isnull().sum()"
   ]
  },
  {
   "cell_type": "code",
   "execution_count": 14,
   "metadata": {},
   "outputs": [],
   "source": [
    "Country_Mode = Olympics_df[\"Country\"].mode()\n",
    "Olympics_df[\"Country\"].fillna(Country_Mode,inplace=True)\n"
   ]
  },
  {
   "cell_type": "markdown",
   "metadata": {},
   "source": [
    "Replace the __4 missing values of Country with __Mode__ of Olympics[\"Country\"]"
   ]
  },
  {
   "cell_type": "markdown",
   "metadata": {},
   "source": [
    "<a id=section304></a>\n",
    "### Post Profiling"
   ]
  },
  {
   "cell_type": "markdown",
   "metadata": {},
   "source": [
    "After processing the missing and duplicates values and now again generate the profile.\n"
   ]
  },
  {
   "cell_type": "code",
   "execution_count": 15,
   "metadata": {},
   "outputs": [],
   "source": [
    "profile = pandas_profiling.ProfileReport(Olympics_df)\n",
    "profile.to_file(outputfile=\"OlympicsDataset_After_preprocessing.html\")"
   ]
  },
  {
   "cell_type": "markdown",
   "metadata": {},
   "source": [
    "<a id=section4></a>\n",
    "## Questions"
   ]
  },
  {
   "cell_type": "markdown",
   "metadata": {},
   "source": [
    "<a id=section401></a>\n",
    "### How many times Olympics games hosted till date and which country hosted the maximum Olympics games?"
   ]
  },
  {
   "cell_type": "code",
   "execution_count": 16,
   "metadata": {},
   "outputs": [
    {
     "name": "stdout",
     "output_type": "stream",
     "text": [
      "Number of times the Olympics has been hosted since 1896 :-  27\n"
     ]
    }
   ],
   "source": [
    "#1.\tHow many times the Olympics hosted till 2012?\n",
    "print(\"Number of times the Olympics has been hosted since 1896 :- \",len(pd.unique(Olympics_df[\"Year\"])))\n"
   ]
  },
  {
   "cell_type": "code",
   "execution_count": 17,
   "metadata": {},
   "outputs": [
    {
     "name": "stdout",
     "output_type": "stream",
     "text": [
      "London    3\n",
      "Name: City, dtype: int64\n"
     ]
    }
   ],
   "source": [
    "#2.\tWhich City hosted the Olympics maximum number of times ?\n",
    "\n",
    "print(Olympics_df.loc[:, ['Year', 'City']].drop_duplicates()['City'].value_counts().sort_values(ascending=False).head(1))\n"
   ]
  },
  {
   "cell_type": "code",
   "execution_count": 18,
   "metadata": {},
   "outputs": [
    {
     "data": {
      "text/html": [
       "<div>\n",
       "<style scoped>\n",
       "    .dataframe tbody tr th:only-of-type {\n",
       "        vertical-align: middle;\n",
       "    }\n",
       "\n",
       "    .dataframe tbody tr th {\n",
       "        vertical-align: top;\n",
       "    }\n",
       "\n",
       "    .dataframe thead th {\n",
       "        text-align: right;\n",
       "    }\n",
       "</style>\n",
       "<table border=\"1\" class=\"dataframe\">\n",
       "  <thead>\n",
       "    <tr style=\"text-align: right;\">\n",
       "      <th></th>\n",
       "      <th>City</th>\n",
       "      <th>Count</th>\n",
       "    </tr>\n",
       "  </thead>\n",
       "  <tbody>\n",
       "    <tr>\n",
       "      <th>0</th>\n",
       "      <td>London</td>\n",
       "      <td>3</td>\n",
       "    </tr>\n",
       "    <tr>\n",
       "      <th>1</th>\n",
       "      <td>Los Angeles</td>\n",
       "      <td>2</td>\n",
       "    </tr>\n",
       "    <tr>\n",
       "      <th>2</th>\n",
       "      <td>Paris</td>\n",
       "      <td>2</td>\n",
       "    </tr>\n",
       "    <tr>\n",
       "      <th>3</th>\n",
       "      <td>Athens</td>\n",
       "      <td>2</td>\n",
       "    </tr>\n",
       "  </tbody>\n",
       "</table>\n",
       "</div>"
      ],
      "text/plain": [
       "          City  Count\n",
       "0       London      3\n",
       "1  Los Angeles      2\n",
       "2        Paris      2\n",
       "3       Athens      2"
      ]
     },
     "execution_count": 18,
     "metadata": {},
     "output_type": "execute_result"
    }
   ],
   "source": [
    "# Which countries has hosted the Olympics more than ONCE\n",
    "\n",
    "host_City = Olympics_df.loc[:, ['Year', 'City']].drop_duplicates()[\"City\"].value_counts(ascending=False).rename_axis('City').to_frame('Count')\n",
    "host_City = host_City[host_City[\"Count\"]>1].reset_index()\n",
    "host_City"
   ]
  },
  {
   "cell_type": "markdown",
   "metadata": {},
   "source": [
    "The below bar graph shows the Countries which hosted the Olympics games more than Once in Olympics history."
   ]
  },
  {
   "cell_type": "code",
   "execution_count": 19,
   "metadata": {},
   "outputs": [
    {
     "ename": "NameError",
     "evalue": "name 'ax' is not defined",
     "output_type": "error",
     "traceback": [
      "\u001b[1;31m---------------------------------------------------------------------------\u001b[0m",
      "\u001b[1;31mNameError\u001b[0m                                 Traceback (most recent call last)",
      "\u001b[1;32m<ipython-input-19-33ba909d4528>\u001b[0m in \u001b[0;36m<module>\u001b[1;34m\u001b[0m\n\u001b[0;32m      3\u001b[0m \u001b[1;31m#host_City.plot.bar(x='City',LineWidth=1,FaceColor='b',EdgeColor='r',Width=0.5)\u001b[0m\u001b[1;33m\u001b[0m\u001b[1;33m\u001b[0m\u001b[1;33m\u001b[0m\u001b[0m\n\u001b[0;32m      4\u001b[0m \u001b[0msns\u001b[0m\u001b[1;33m.\u001b[0m\u001b[0mbarplot\u001b[0m\u001b[1;33m(\u001b[0m\u001b[0mdata\u001b[0m\u001b[1;33m=\u001b[0m\u001b[0mhost_City\u001b[0m\u001b[1;33m,\u001b[0m\u001b[0mx\u001b[0m\u001b[1;33m=\u001b[0m\u001b[1;34m'City'\u001b[0m\u001b[1;33m,\u001b[0m\u001b[0my\u001b[0m\u001b[1;33m=\u001b[0m\u001b[1;34m'Count'\u001b[0m\u001b[1;33m,\u001b[0m\u001b[0mhue\u001b[0m\u001b[1;33m=\u001b[0m\u001b[1;34m'Count'\u001b[0m\u001b[1;33m)\u001b[0m\u001b[1;33m\u001b[0m\u001b[1;33m\u001b[0m\u001b[0m\n\u001b[1;32m----> 5\u001b[1;33m \u001b[0max\u001b[0m\u001b[1;33m.\u001b[0m\u001b[0mset\u001b[0m\u001b[1;33m(\u001b[0m\u001b[0mxlabel\u001b[0m\u001b[1;33m=\u001b[0m\u001b[1;34m'Host City'\u001b[0m\u001b[1;33m,\u001b[0m \u001b[0mylabel\u001b[0m\u001b[1;33m=\u001b[0m\u001b[1;34m'Host Count'\u001b[0m\u001b[1;33m)\u001b[0m\u001b[1;33m\u001b[0m\u001b[1;33m\u001b[0m\u001b[0m\n\u001b[0m\u001b[0;32m      6\u001b[0m \u001b[1;33m\u001b[0m\u001b[0m\n\u001b[0;32m      7\u001b[0m \u001b[1;33m\u001b[0m\u001b[0m\n",
      "\u001b[1;31mNameError\u001b[0m: name 'ax' is not defined"
     ]
    },
    {
     "data": {
      "image/png": "[encoded data removed]",
      "text/plain": [
       "<Figure size 1000x600 with 1 Axes>"
      ]
     },
     "metadata": {},
     "output_type": "display_data"
    }
   ],
   "source": [
    "fig = plt.figure(figsize=(10, 6))\n",
    "\n",
    "#host_City.plot.bar(x='City',LineWidth=1,FaceColor='b',EdgeColor='r',Width=0.5)\n",
    "sns.barplot(data=host_City,x='City',y='Count',hue='Count')\n",
    "ax.set(xlabel='Host City', ylabel='Host Count')\n",
    "\n",
    "\n",
    "#Setting axis\n",
    "plt.xlabel('Host City')\n",
    "plt.ylabel('HOst Count')\n",
    "plt.title(\"Cities which are hosted the Olympics games more then Once.\")\n",
    "fig.savefig(\"HostCity1.png\",dpi=fig.dpi)\n"
   ]
  },
  {
   "cell_type": "markdown",
   "metadata": {},
   "source": [
    "<a id=section402></a>\n",
    "###  How many countries participation in Olympics over the years?"
   ]
  },
  {
   "cell_type": "code",
   "execution_count": null,
   "metadata": {},
   "outputs": [],
   "source": [
    "# 3.\tHow many countries participated in each Olympics?\n",
    "Olympics_df.groupby('Year').nunique()[['Country']]"
   ]
  },
  {
   "cell_type": "markdown",
   "metadata": {},
   "source": [
    "The below graph explain the participation of number of countries over the period of Olympics history. In 1896, when it was </br>\n",
    "started , there were only __10__ countries participated from the world which rises to __86__ by the end of year 2012.It shows the upward positive trends in term of number of countries particiapted in Olympics</br>\n",
    "The participation level almost above __80 nations__ from year 1996 onwards. Probably people among different nations become more </br>\n",
    "about Olympics games and it become a world wide festival now."
   ]
  },
  {
   "cell_type": "code",
   "execution_count": null,
   "metadata": {},
   "outputs": [],
   "source": [
    "groupYearCountry = Olympics_df.groupby('Year').nunique()[['Country']].reset_index()\n",
    "sns.set(rc={'figure.figsize':(15,12)})\n",
    "plot = sns.barplot(x='Year',y='Country',data=groupYearCountry).set_xticklabels(groupYearCountry.Year,rotation=92)\n",
    "plt.xlabel(\"YEAR\")\n",
    "plt.ylabel(\"No. of COUNTRIES\")\n",
    "plt.title(\"Number of Countries Participation Level in Olympics over the history\")\n",
    "plt.savefig(\"CountryParticipated.png\",dpi=fig.dpi)\n",
    "\n",
    "\n",
    "\n",
    "sns.barplot"
   ]
  },
  {
   "cell_type": "code",
   "execution_count": null,
   "metadata": {},
   "outputs": [],
   "source": [
    "# What are the maximum number of countries participated and minimum number of countries participated in Olypics games.\n",
    "print(\"Maximum number of Countries participated in Olympics \",Olympics_df.groupby('Year').nunique()[['Country']].max())"
   ]
  },
  {
   "cell_type": "code",
   "execution_count": null,
   "metadata": {},
   "outputs": [],
   "source": [
    "# What are the maximum number of countries participated and minimum number of countries participated in Olypics games.\n",
    "print(\"Minimum number of Countries participated in Olympics \",Olympics_df.groupby('Year').nunique()[['Country']].min())"
   ]
  },
  {
   "cell_type": "markdown",
   "metadata": {},
   "source": [
    "<a id=section1></a>\n",
    "### how many total medals won till date in Olympics and year wise each medal won by countries?"
   ]
  },
  {
   "cell_type": "code",
   "execution_count": null,
   "metadata": {},
   "outputs": [],
   "source": [
    "#5.\tNumber of medals won in Olympics till date ? year wise?\n",
    "\n",
    "numMedals = Olympics_df.groupby('Year').count()[['Medal']].reset_index()\n",
    "print(\"Total Medals won year wise \\n\",numMedals)\n",
    "\n",
    "TotalMedalWonInOlympics = Olympics_df.count()[['Medal']]\n",
    "print(\"Total number of Medal wons in Olympics till date \",TotalMedalWonInOlympics,)"
   ]
  },
  {
   "cell_type": "markdown",
   "metadata": {},
   "source": [
    "The below graph shows the Medal tally or the medal count won over the Olympics history."
   ]
  },
  {
   "cell_type": "code",
   "execution_count": null,
   "metadata": {
    "scrolled": true
   },
   "outputs": [],
   "source": [
    "\n",
    "sns.set(rc={'figure.figsize':(15,15)})\n",
    "plot = sns.relplot(x='Year',y='Medal',data=numMedals,kind='line')#.set_xticklabels(numMedals.Year,rotation=90)\n",
    "plt.xlabel(\"YEAR\")\n",
    "plt.ylabel(\"MedalCount\")\n",
    "plt.title(\"Total Medal Won count in each Olympics year over the history\")\n",
    "plt.savefig(\"TotalMedalCount.png\")\n",
    "\n"
   ]
  },
  {
   "cell_type": "markdown",
   "metadata": {},
   "source": [
    "<a id=section403></a>\n",
    "### how many total medals won till date in Olympics and year wise each medal won by countries?"
   ]
  },
  {
   "cell_type": "code",
   "execution_count": null,
   "metadata": {},
   "outputs": [],
   "source": [
    "#Calculate the number of medals won by different countries in each Olympics?\n",
    "\n",
    "df_Medal_Country= Olympics_df[['Year','Country','Sport','Medal']].copy()\n",
    "#df_Medal_Country\n",
    "\n",
    "#Medal count of each country in each Olympic year\n",
    "\n",
    "df_Medal_tally = df_Medal_Country.groupby(['Year','Country'],as_index=True).count()[['Medal']]\n",
    "df_Medal_tally\n",
    "\n",
    "#Max number of medals won by country in each Olympics year from 1896\n",
    "\n",
    "temp= df_Medal_tally.groupby(['Year']).max()[['Medal']].reset_index()\n",
    "\n",
    "temp['Country'] = df_Medal_Country['Country']\n",
    "temp\n",
    "\n",
    "#df_Medal_tally.xs(1896,level='Year').max()[['Medal']]"
   ]
  },
  {
   "cell_type": "code",
   "execution_count": null,
   "metadata": {},
   "outputs": [],
   "source": [
    "#plaotting barplot\n",
    "fig, ax = plt.subplots(figsize=(20,10))\n",
    "ax= sns.barplot(x = 'Year',y = 'Medal',data = temp[:100],ax=ax, hue = 'Country')\n",
    "\n",
    "#Series Setting\n",
    "plt.xlabel(\"YEAR\")\n",
    "plt.ylabel(\"MedalCount\")\n",
    "plt.title(\"Top 8 Dominating Countries with MAX Medal won count in Olympics History\")\n",
    "\n",
    "#Displaying values on bar\n",
    "for p in ax.patches:\n",
    "    ax.annotate(format(p.get_height()),(p.get_x(),p.get_height()+1),fontsize=11)\n",
    "plt.savefig(\"CountryWithMaxMedal.png\")"
   ]
  },
  {
   "cell_type": "markdown",
   "metadata": {},
   "source": [
    "The below barplot show the __comparison between Medal won count by different countries in First Three years of Olympic History __(1896,1900,1904)__\n",
    "\n",
    "It shows :\n",
    "    Positive trend in Participation and Medal Won over first three years.\\n\n",
    "    __Greece,Canada and USA won the max number of Medals in FIRST three Olympics.\n",
    "    "
   ]
  },
  {
   "cell_type": "code",
   "execution_count": null,
   "metadata": {},
   "outputs": [],
   "source": [
    "#Medal count of each country in each Olympic year\n",
    "\n",
    "df_Medal_tally = df_Medal_Country.groupby(['Year','Country'],as_index=True).count()[['Medal']]\n",
    "ax= df_Medal_tally[:40].unstack().plot(kind = 'bar',figsize = (10,12))\n",
    "\n",
    "#Series Setting\n",
    "plt.xlabel(\"YEAR\")\n",
    "plt.ylabel(\"MedalCount\")\n",
    "plt.title(\"Number of Medal won by different Countries in First Three Years(1896,1900,1904)\")\n",
    "\n",
    "\n",
    "#Displaying values on bar\n",
    "for p in ax.patches:\n",
    "    ax.annotate(format(p.get_height()),(p.get_x(),p.get_height()+1),fontsize=11)\n",
    "plt.savefig(\"ComparisionFirstThreeYear.png\")"
   ]
  },
  {
   "cell_type": "markdown",
   "metadata": {},
   "source": [
    "Count of Gold, Silver,Bronze won each year in Olympic"
   ]
  },
  {
   "cell_type": "code",
   "execution_count": 26,
   "metadata": {},
   "outputs": [
    {
     "data": {
      "image/png": "[encoded data removed]",
      "text/plain": [
       "<Figure size 800x550 with 1 Axes>"
      ]
     },
     "metadata": {},
     "output_type": "display_data"
    }
   ],
   "source": [
    "\n",
    "#Plot the graph\n",
    "sns.set(color_codes=True)\n",
    "sns.set_palette(sns.color_palette(\"muted\"))\n",
    "sns.countplot(y='Year',hue='Medal',data=Olympics_df).set_title(\"Total Gold, Silver,Bronze Medal Count in each Olympic Year\")\n",
    "plt.savefig(\"TotalGoldSilver.png\")"
   ]
  },
  {
   "cell_type": "markdown",
   "metadata": {},
   "source": [
    "<a id=section404></a>\n",
    "### What is the medal won count betwen Men and Women in each Olympic year?"
   ]
  },
  {
   "cell_type": "code",
   "execution_count": null,
   "metadata": {},
   "outputs": [],
   "source": [
    "#10.\tWhat is the medal count betwen Men and Women each Olympic year?\n",
    "\n",
    "Olympics_df.groupby(['Year','Gender']).count()[['Medal']]\n",
    "\n",
    "#Total number of medal won by Male and Female\n",
    "Olympics_df.groupby(['Gender']).count()[['Medal']]\n",
    "\n",
    "#Total Men and women count country wise\n",
    "temp_df = Olympics_df.groupby(['Year','Country','Gender']).count()[['Medal']]\n",
    "df1= temp_df.sample(100).reset_index()\n",
    "df1\n"
   ]
  },
  {
   "cell_type": "code",
   "execution_count": null,
   "metadata": {},
   "outputs": [],
   "source": [
    "# Plot to show medal count of Men and Women in Olympics history\n",
    "sns.set(rc={'figure.figsize':(15,12)})\n",
    "plt.xlabel(\"YEAR\")\n",
    "plt.ylabel(\"MedalCount\")\n",
    "plt.title(\"Medal Won Count by Men and Women in Olympics History\")\n",
    "sns.lineplot(x='Year',y='Medal',data=df1,hue='Gender')"
   ]
  },
  {
   "cell_type": "markdown",
   "metadata": {},
   "source": [
    "<a id=section405></a>\n",
    "### Display the Medal Tally (Gold,Silver,Bronze) of each Country in each Olympic year."
   ]
  },
  {
   "cell_type": "code",
   "execution_count": 27,
   "metadata": {},
   "outputs": [
    {
     "data": {
      "text/plain": [
       "Year  Country  Medal \n",
       "1896  AUS      Gold        2\n",
       "      AUT      Bronze      2\n",
       "               Gold        2\n",
       "               Silver      1\n",
       "      DEN      Bronze      3\n",
       "               Gold        1\n",
       "               Silver      2\n",
       "      FRA      Bronze      2\n",
       "               Gold        5\n",
       "               Silver      4\n",
       "      GBR      Bronze      2\n",
       "               Gold        2\n",
       "               Silver      3\n",
       "      GER      Bronze      2\n",
       "               Gold       26\n",
       "               Silver      5\n",
       "      GRE      Bronze     22\n",
       "               Gold       10\n",
       "               Silver     20\n",
       "      HUN      Bronze      3\n",
       "               Gold        2\n",
       "               Silver      1\n",
       "      SUI      Gold        1\n",
       "               Silver      2\n",
       "      USA      Bronze      2\n",
       "               Gold       11\n",
       "               Silver      7\n",
       "      ZZX      Bronze      2\n",
       "               Gold        2\n",
       "               Silver      2\n",
       "                        ... \n",
       "2012  SUI      Gold        2\n",
       "               Silver      2\n",
       "      SVK      Bronze      4\n",
       "               Silver      1\n",
       "      SWE      Bronze      3\n",
       "               Gold        2\n",
       "               Silver     18\n",
       "      THA      Bronze      2\n",
       "               Silver      2\n",
       "      TJK      Bronze      1\n",
       "      TPE      Bronze      1\n",
       "               Gold        1\n",
       "      TTO      Bronze      5\n",
       "               Gold        1\n",
       "               Silver      4\n",
       "      TUN      Bronze      1\n",
       "               Gold        2\n",
       "      TUR      Bronze      1\n",
       "               Gold        1\n",
       "               Silver      2\n",
       "      UGA      Gold        1\n",
       "      UKR      Bronze     12\n",
       "               Gold        9\n",
       "               Silver      4\n",
       "      USA      Bronze     46\n",
       "               Gold      147\n",
       "               Silver     57\n",
       "      UZB      Bronze      2\n",
       "               Gold        1\n",
       "      VEN      Gold        1\n",
       "Name: Medal, Length: 2547, dtype: int64"
      ]
     },
     "execution_count": 27,
     "metadata": {},
     "output_type": "execute_result"
    }
   ],
   "source": [
    "#Display the Gold,Silver,Bronze Count of each country in each Olympics year\n",
    "\n",
    "df_country_medal = Olympics_df[['Year','Country','Medal']].copy()\n",
    "df_country_medal.reset_index()\n",
    "\n",
    "MedalGroupby = df_country_medal.groupby(['Year','Country','Medal'])['Medal'].count()\n",
    "MedalGroupby\n"
   ]
  },
  {
   "cell_type": "code",
   "execution_count": null,
   "metadata": {},
   "outputs": [],
   "source": [
    "#MedalGroupby.reset_index()\n",
    "sns.swarmplot(x='Year',hue='Medal',data=df_country_medal)"
   ]
  },
  {
   "cell_type": "markdown",
   "metadata": {},
   "source": [
    "<a id=section406></a>\n",
    "### Which Country won the max number of Gold,Silver,Bronze medal in Olympic history ?"
   ]
  },
  {
   "cell_type": "code",
   "execution_count": null,
   "metadata": {},
   "outputs": [],
   "source": [
    "#6.\tCountry who won maximum Gold medals\n",
    "#7.\tCountries who won max Silver and Bronze ?\n",
    "\n",
    "def maxGoldWonCountry():\n",
    "    df_Medal_Country.reset_index()\n",
    "    df= df_Medal_Country[df_Medal_Country.Medal==\"Gold\"].groupby('Country').count()[['Medal']].reset_index()\n",
    "\n",
    "    print(df.iloc[df[\"Medal\"].idxmax(axis=0)][\"Country\"])\n",
    "    return None\n",
    "\n",
    "def maxSilverWonCountry():\n",
    "    df_Medal_Country.reset_index()\n",
    "    df= df_Medal_Country[df_Medal_Country.Medal==\"Silver\"].groupby('Country').count()[['Medal']].reset_index()\n",
    "    #print(df)\n",
    "    print(df.iloc[df[\"Medal\"].idxmax(axis=0)][\"Country\"])\n",
    "    return None\n",
    "\n",
    "def maxBronzeWonCountry():\n",
    "    df_Medal_Country.reset_index()\n",
    "    df= df_Medal_Country[df_Medal_Country.Medal==\"Bronze\"].groupby('Country').count()[['Medal']].reset_index()\n",
    "\n",
    "    print(df.iloc[df[\"Medal\"].idxmax(axis=0)][\"Country\"])\n",
    "    return None\n",
    "\n",
    "\n",
    "print(\"Maximum Gold Won Country in Olympics History is \\t\");maxGoldWonCountry() \n",
    "print(\"Maximum Silver Won Country in Olympics History is \");maxSilverWonCountry()\n",
    "print(\"Maximum Bronze Won Country in Olympics History is \");maxBronzeWonCountry()"
   ]
  },
  {
   "cell_type": "code",
   "execution_count": null,
   "metadata": {},
   "outputs": [],
   "source": [
    "#Countries who won least number of Gold\n",
    "\n",
    "def minGoldWonCountry():\n",
    "    df_Medal_Country.reset_index()\n",
    "    df= df_Medal_Country[df_Medal_Country.Medal==\"Gold\"].groupby('Country').count()[['Medal']].reset_index()\n",
    "\n",
    "    print(df.iloc[df[\"Medal\"].idxmin(axis=0)][\"Country\"])\n",
    "    return None\n",
    "\n",
    "print(\"Country with minimum number of Gold medals \")\n",
    "minGoldWonCountry()"
   ]
  },
  {
   "cell_type": "markdown",
   "metadata": {},
   "source": [
    "<a id=section407></a>\n",
    "### Which Country won the Olympics games more than __ONCE__ in Olympic history"
   ]
  },
  {
   "cell_type": "code",
   "execution_count": null,
   "metadata": {},
   "outputs": [],
   "source": [
    "#8.\tWhich countries won the Olympics more than one ?\n",
    "\n",
    "Olympics_df.groupby(['Year','Country'])['Medal'].count().nlargest(2)"
   ]
  },
  {
   "cell_type": "markdown",
   "metadata": {},
   "source": [
    "<a id=section408></a>\n",
    "### Which are the Top three countries in Olympics games over the history of Olympic ?"
   ]
  },
  {
   "cell_type": "code",
   "execution_count": null,
   "metadata": {},
   "outputs": [],
   "source": [
    "#22.\tTop three countries over the period\n",
    "\n",
    "g= Olympics_df.groupby(['Year','Country']).count()\n",
    "ges = g['Medal'].groupby(level=0,group_keys=False)\n",
    "ges.nlargest(5)\n"
   ]
  },
  {
   "cell_type": "markdown",
   "metadata": {},
   "source": [
    "<a id=section409></a>\n",
    "### How the performance of women in Olympics history changed over the period ?"
   ]
  },
  {
   "cell_type": "code",
   "execution_count": null,
   "metadata": {},
   "outputs": [],
   "source": [
    "#20.\tPerformance of women over time\n",
    "Olympics_df[Olympics_df['Gender']=='Women'].groupby(['Year','Country'])['Medal'].count()"
   ]
  },
  {
   "cell_type": "code",
   "execution_count": null,
   "metadata": {},
   "outputs": [],
   "source": []
  },
  {
   "cell_type": "markdown",
   "metadata": {},
   "source": [
    "<a id=sectioni410></a>\n",
    "### Indian Performance in Olympic history ?"
   ]
  },
  {
   "cell_type": "code",
   "execution_count": null,
   "metadata": {},
   "outputs": [],
   "source": [
    "#23.\tPerformance of India in Olympics vs Gender ?\n",
    "India_df= Olympics_df[Olympics_df['Country']=='IND'].groupby(['Year','Country'])['Medal'].count()\n",
    "India_df.reset_index()\n",
    "\n"
   ]
  },
  {
   "cell_type": "markdown",
   "metadata": {},
   "source": [
    "<a id=section411></a>\n",
    "### Which Athlete won the maximum numberof Gold in Swimming ?"
   ]
  },
  {
   "cell_type": "code",
   "execution_count": null,
   "metadata": {},
   "outputs": [],
   "source": [
    "#9.\tWhich country won max number of medals in Swimming \n",
    "Olympics_df[Olympics_df[\"Discipline\"]==\"Swimming\"].groupby('Country')['Medal'].count().argmax()\n",
    "\n",
    "#9.\tWhich Athelte won max number of medals in Swimming \n",
    "Olympics_df[Olympics_df[\"Discipline\"]==\"Swimming\"].groupby('Athlete')['Medal'].count().argmax()"
   ]
  }
 ],
 "metadata": {
  "kernelspec": {
   "display_name": "Python 3",
   "language": "python",
   "name": "python3"
  },
  "language_info": {
   "codemirror_mode": {
    "name": "ipython",
    "version": 3
   },
   "file_extension": ".py",
   "mimetype": "text/x-python",
   "name": "python",
   "nbconvert_exporter": "python",
   "pygments_lexer": "ipython3",
   "version": "3.7.3"
  }
 },
 "nbformat": 4,
 "nbformat_minor": 2
}
